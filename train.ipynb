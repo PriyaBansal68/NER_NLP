{
 "cells": [
  {
   "cell_type": "code",
   "execution_count": 7,
   "metadata": {},
   "outputs": [],
   "source": [
    "import plac\n",
    "import random\n",
    "from pathlib import Path\n",
    "import spacy\n",
    "from tqdm import tqdm"
   ]
  },
  {
   "cell_type": "code",
   "execution_count": 9,
   "metadata": {},
   "outputs": [
    {
     "name": "stderr",
     "output_type": "stream",
     "text": [
      "100%|██████████| 10/10 [00:00<00:00, 22086.91it/s]"
     ]
    },
    {
     "name": "stdout",
     "output_type": "stream",
     "text": [
      "<re.Match object; span=(7, 11), match='Coke'>\n",
      "<re.Match object; span=(5, 13), match='Fountain'>\n",
      "<re.Match object; span=(5, 10), match='Pepsi'>\n",
      "<re.Match object; span=(5, 9), match='Coke'>\n",
      "<re.Match object; span=(0, 8), match='Fountain'>\n",
      "<re.Match object; span=(13, 17), match='Coke'>\n",
      "<re.Match object; span=(5, 15), match='Dr. Pepper'>\n",
      "<re.Match object; span=(13, 25), match='Mountain Dew'>\n",
      "<re.Match object; span=(5, 9), match='Coke'>\n",
      "<re.Match object; span=(0, 4), match='Coke'>\n"
     ]
    },
    {
     "name": "stderr",
     "output_type": "stream",
     "text": [
      "\n"
     ]
    }
   ],
   "source": [
    "import re\n",
    "\n",
    "TRAIN_DATA = []\n",
    "\n",
    "texts = [\n",
    "    [\"Bottle Coke Diet 20oz\", \"Coke\"],\n",
    "    [\"20oz Fountain Beverage\", \"Fountain\"],\n",
    "    [\"Diet Pepsi 20oz\", \"Pepsi\"],\n",
    "    [\"Soda Coke Classic 20oz B\", \"Coke\"],\n",
    "    [\"Fountain Drink 20oz\", \"Fountain\"],\n",
    "    [\"BVC - Bottle Coke Classic 20oz\", \"Coke\"],\n",
    "    [\"Soda Dr. Pepper 20oz Bot\", \"Dr. Pepper\"],\n",
    "    [\"BVC - Bottle Mountain Dew 20oz\", \"Mountain Dew\"],\n",
    "    [\"Soda Coke Zero 20oz Bott\", \"Coke\"],\n",
    "    [\"Coke 20 oz  Bottle\", \"Coke\"]\n",
    "]\n",
    "for text, temp in tqdm(texts):\n",
    "    for match in re.finditer(temp, text):\n",
    "            print(match)\n",
    "            break\n",
    "    TRAIN_DATA.append(\n",
    "        (text, {\n",
    "            'entities': [(match.start(), match.end(), 'PRODUCT')]\n",
    "        })\n",
    "    )"
   ]
  },
  {
   "cell_type": "code",
   "execution_count": 10,
   "metadata": {},
   "outputs": [
    {
     "data": {
      "text/plain": [
       "[('Bottle Coke Diet 20oz', {'entities': [(7, 11, 'PRODUCT')]}),\n",
       " ('20oz Fountain Beverage', {'entities': [(5, 13, 'PRODUCT')]}),\n",
       " ('Diet Pepsi 20oz', {'entities': [(5, 10, 'PRODUCT')]}),\n",
       " ('Soda Coke Classic 20oz B', {'entities': [(5, 9, 'PRODUCT')]}),\n",
       " ('Fountain Drink 20oz', {'entities': [(0, 8, 'PRODUCT')]}),\n",
       " ('BVC - Bottle Coke Classic 20oz', {'entities': [(13, 17, 'PRODUCT')]}),\n",
       " ('Soda Dr. Pepper 20oz Bot', {'entities': [(5, 15, 'PRODUCT')]}),\n",
       " ('BVC - Bottle Mountain Dew 20oz', {'entities': [(13, 25, 'PRODUCT')]}),\n",
       " ('Soda Coke Zero 20oz Bott', {'entities': [(5, 9, 'PRODUCT')]}),\n",
       " ('Coke 20 oz  Bottle', {'entities': [(0, 4, 'PRODUCT')]})]"
      ]
     },
     "execution_count": 10,
     "metadata": {},
     "output_type": "execute_result"
    }
   ],
   "source": [
    "TRAIN_DATA"
   ]
  },
  {
   "cell_type": "code",
   "execution_count": 48,
   "metadata": {},
   "outputs": [
    {
     "data": {
      "text/plain": [
       "10"
      ]
     },
     "execution_count": 48,
     "metadata": {},
     "output_type": "execute_result"
    }
   ],
   "source": [
    "len(TRAIN_DATA)"
   ]
  },
  {
   "cell_type": "code",
   "execution_count": 12,
   "metadata": {},
   "outputs": [
    {
     "name": "stderr",
     "output_type": "stream",
     "text": [
      "100%|██████████| 10/10 [00:00<00:00, 2902.63it/s]\n"
     ]
    }
   ],
   "source": [
    "import spacy\n",
    "from spacy.tokens import DocBin\n",
    "from tqdm import tqdm\n",
    "nlp = spacy.blank(\"en\") # load a new spacy model\n",
    "db = DocBin() # create a DocBin object\n",
    "for text, annot in tqdm(TRAIN_DATA): # data in previous format\n",
    "    doc = nlp.make_doc(text) # create doc object from text\n",
    "    ents = []\n",
    "    for start, end, label in annot[\"entities\"]: # add character indexes\n",
    "        span = doc.char_span(start, end, label=label, alignment_mode=\"contract\")\n",
    "        if span is None:\n",
    "            print(\"Skipping entity\")\n",
    "        else:\n",
    "            ents.append(span)\n",
    "    try:\n",
    "        doc.ents = ents # label the text with the ents\n",
    "        db.add(doc)\n",
    "    except:\n",
    "        print(text, annot)\n",
    "db.to_disk(\"./train.spacy\") # save the docbin object"
   ]
  },
  {
   "cell_type": "code",
   "execution_count": 14,
   "metadata": {},
   "outputs": [],
   "source": [
    "import spacy\n",
    "\n",
    "custom_nlp = spacy.load(\"output/model-last/\") #load the model"
   ]
  },
  {
   "cell_type": "code",
   "execution_count": 46,
   "metadata": {},
   "outputs": [
    {
     "data": {
      "text/html": [
       "<span class=\"tex2jax_ignore\"><div class=\"entities\" style=\"line-height: 2.5; direction: ltr\">Can \n",
       "<mark class=\"entity\" style=\"background: #bfeeb7; padding: 0.45em 0.6em; margin: 0 0.25em; line-height: 1; border-radius: 0.35em;\">\n",
       "    Mountain Dew\n",
       "    <span style=\"font-size: 0.8em; font-weight: bold; line-height: 1; border-radius: 0.35em; vertical-align: middle; margin-left: 0.5rem\">PRODUCT</span>\n",
       "</mark>\n",
       " 12oz</div></span>"
      ],
      "text/plain": [
       "<IPython.core.display.HTML object>"
      ]
     },
     "metadata": {},
     "output_type": "display_data"
    }
   ],
   "source": [
    "sentence = \"BVC- Bottle Coke  Brand 20 oz\"\n",
    "sentence = \"Bottle Fanta Strawberry 20oz\"\n",
    "sentence = \"Fountain 24oz\"\n",
    "sentence = \"Crush Peach 20oz\"\n",
    "sentence = \"2 for 2.79 COKE\"\n",
    "sentence = \"Can Schweppes Ginger Ale\"\n",
    "sentence = \"Soda Dr. Pepper Diet 20oz Bottle\"\n",
    "sentence = \"CocaCola Fount\"\n",
    "sentence = \"BVC - Bottle Sunkist Orange 20oz\"\n",
    "sentence = \"24oz Fountain Beverage (Refill)\"\n",
    "sentence = \"fanta peach\"\n",
    "sentence = \"Can Mountain Dew 12oz\"\n",
    "doc = custom_nlp(sentence)\n",
    "\n",
    "from spacy import displacy\n",
    "displacy.render(doc, style=\"ent\", jupyter=True)"
   ]
  },
  {
   "cell_type": "code",
   "execution_count": 47,
   "metadata": {},
   "outputs": [
    {
     "name": "stdout",
     "output_type": "stream",
     "text": [
      "PRODUCT Mountain Dew\n"
     ]
    }
   ],
   "source": [
    "for i in doc.ents:\n",
    "    print(i.label_, i)"
   ]
  },
  {
   "cell_type": "code",
   "execution_count": null,
   "metadata": {},
   "outputs": [],
   "source": []
  }
 ],
 "metadata": {
  "kernelspec": {
   "display_name": "Python 3.9.15 ('samespace')",
   "language": "python",
   "name": "python3"
  },
  "language_info": {
   "codemirror_mode": {
    "name": "ipython",
    "version": 3
   },
   "file_extension": ".py",
   "mimetype": "text/x-python",
   "name": "python",
   "nbconvert_exporter": "python",
   "pygments_lexer": "ipython3",
   "version": "3.9.15"
  },
  "orig_nbformat": 4,
  "vscode": {
   "interpreter": {
    "hash": "e5d018c2e5211cdf35062268c6bf489b265cdf62287cd0f830293b9c4dba5b7a"
   }
  }
 },
 "nbformat": 4,
 "nbformat_minor": 2
}
